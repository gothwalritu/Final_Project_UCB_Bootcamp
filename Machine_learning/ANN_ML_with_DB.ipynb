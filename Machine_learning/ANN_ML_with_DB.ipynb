{
 "cells": [
  {
   "cell_type": "code",
   "execution_count": 1,
   "metadata": {
    "id": "Zg_XoQJbGLst"
   },
   "outputs": [],
   "source": [
    "import pandas as pd \n",
    "import sqlite3 as sql\n",
    "from datetime import datetime \n",
    "import seaborn as sns"
   ]
  },
  {
   "cell_type": "code",
   "execution_count": 2,
   "metadata": {
    "colab": {
     "base_uri": "https://localhost:8080/",
     "height": 361
    },
    "id": "Xsj1C03MHWDD",
    "outputId": "2f7f9e97-ce2b-4d3b-a4a1-9c077066b069"
   },
   "outputs": [
    {
     "ename": "ModuleNotFoundError",
     "evalue": "No module named 'google.colab'",
     "output_type": "error",
     "traceback": [
      "\u001b[1;31m---------------------------------------------------------------------------\u001b[0m",
      "\u001b[1;31mModuleNotFoundError\u001b[0m                       Traceback (most recent call last)",
      "Input \u001b[1;32mIn [2]\u001b[0m, in \u001b[0;36m<cell line: 2>\u001b[1;34m()\u001b[0m\n\u001b[0;32m      1\u001b[0m \u001b[38;5;66;03m# Import CSV file in Google Colab \u001b[39;00m\n\u001b[1;32m----> 2\u001b[0m \u001b[38;5;28;01mfrom\u001b[39;00m \u001b[38;5;21;01mgoogle\u001b[39;00m\u001b[38;5;21;01m.\u001b[39;00m\u001b[38;5;21;01mcolab\u001b[39;00m \u001b[38;5;28;01mimport\u001b[39;00m files\n\u001b[0;32m      3\u001b[0m uploaded \u001b[38;5;241m=\u001b[39m files\u001b[38;5;241m.\u001b[39mupload()\n\u001b[0;32m      5\u001b[0m \u001b[38;5;28;01mimport\u001b[39;00m \u001b[38;5;21;01mio\u001b[39;00m\n",
      "\u001b[1;31mModuleNotFoundError\u001b[0m: No module named 'google.colab'"
     ]
    }
   ],
   "source": [
    "# Import CSV file in Google Colab \n",
    "from google.colab import files\n",
    "uploaded = files.upload()\n",
    "\n",
    "import io\n",
    "WQ_Big_Lake_Sammamish_df = pd.read_csv(io.BytesIO(uploaded['Big_Lake_Sammamish.csv']))\n",
    "WQ_Big_Lake_Sammamish_df.head(5)"
   ]
  },
  {
   "cell_type": "code",
   "execution_count": null,
   "metadata": {
    "colab": {
     "base_uri": "https://localhost:8080/",
     "height": 522
    },
    "id": "l1hYkGDDAyhI",
    "outputId": "5fdf77bf-619a-4fea-d557-b9f03f6a4e4c"
   },
   "outputs": [],
   "source": [
    "# Drop Unnamed column \n",
    "WQ_Big_Lake_Sammamish_df.drop('Unnamed: 0',axis=1, inplace=True)\n",
    "WQ_Big_Lake_Sammamish_df"
   ]
  },
  {
   "cell_type": "code",
   "execution_count": null,
   "metadata": {
    "colab": {
     "base_uri": "https://localhost:8080/",
     "height": 305
    },
    "id": "meHxT4C1Bfb1",
    "outputId": "a5957a39-3afb-4498-bd8d-2ab7c60b3fcc"
   },
   "outputs": [],
   "source": [
    "#Rename Ammmonia_Nitrogen to Ammonia_Nitrogen\n",
    "WQ_Big_Lake_Sammamish_df.rename({'Ammmonia Nitrogen (mg/L)':'Ammonia Nitrogen (mg/L)'},axis='columns',inplace=True)\n",
    "WQ_Big_Lake_Sammamish_df.head()"
   ]
  },
  {
   "cell_type": "code",
   "execution_count": null,
   "metadata": {
    "colab": {
     "base_uri": "https://localhost:8080/",
     "height": 399
    },
    "id": "AW7XzIogBy6a",
    "outputId": "a7cc6e3b-9602-47d9-c0d2-dde9ab65f1d4"
   },
   "outputs": [],
   "source": [
    "# Data Summary\n",
    "WQ_Big_Lake_Sammamish_df.describe()"
   ]
  },
  {
   "cell_type": "code",
   "execution_count": null,
   "metadata": {
    "id": "PQsFAtpK8n1x"
   },
   "outputs": [],
   "source": [
    "# convert string to datetime\n",
    "WQ_Big_Lake_Sammamish_df[\"CollectDate\"] = pd.to_datetime(WQ_Big_Lake_Sammamish_df[\"CollectDate\"])"
   ]
  },
  {
   "cell_type": "code",
   "execution_count": null,
   "metadata": {
    "colab": {
     "base_uri": "https://localhost:8080/",
     "height": 800
    },
    "id": "2u9oEVeN9EmE",
    "outputId": "211d6b16-48e0-413a-fd71-26435c880bfe"
   },
   "outputs": [],
   "source": [
    "# Histogram shows the number of instances that have a given value range. Using jupyter's magic command to specify which backend Matplotlib should use.\n",
    "%matplotlib inline\n",
    "import matplotlib.pyplot as plt\n",
    "WQ_Big_Lake_Sammamish_df.hist(bins=50, figsize=(20,15))\n",
    "plt.show()"
   ]
  },
  {
   "cell_type": "code",
   "execution_count": null,
   "metadata": {
    "colab": {
     "base_uri": "https://localhost:8080/",
     "height": 282
    },
    "id": "V06QXqOW9RiM",
    "outputId": "59e6ad56-e8ec-48b3-f508-c745bde90fbd"
   },
   "outputs": [],
   "source": [
    "# Visualize the value counts of target variable\n",
    "WQ_Big_Lake_Sammamish_df[\"WQI\"].plot.density()"
   ]
  },
  {
   "cell_type": "code",
   "execution_count": null,
   "metadata": {
    "colab": {
     "base_uri": "https://localhost:8080/",
     "height": 336
    },
    "id": "xNsTqrLrByg4",
    "outputId": "295538c7-3828-49c9-8074-226ce783b106"
   },
   "outputs": [],
   "source": [
    "# Group by Collect Date \n",
    "WQ_Big_Lake_Sammamish_df_mean = WQ_Big_Lake_Sammamish_df.groupby([\"CollectDate\"]).mean()\n",
    "WQ_Big_Lake_Sammamish_df_mean.head(5)"
   ]
  },
  {
   "cell_type": "code",
   "execution_count": null,
   "metadata": {
    "colab": {
     "base_uri": "https://localhost:8080/",
     "height": 448
    },
    "id": "b1Z-I6s1-pQ_",
    "outputId": "11f8eebc-b9d8-4e58-b56c-731e331ae470"
   },
   "outputs": [],
   "source": [
    "sns.heatmap(WQ_Big_Lake_Sammamish_df_mean.corr(), annot=True)"
   ]
  },
  {
   "cell_type": "code",
   "execution_count": null,
   "metadata": {
    "colab": {
     "base_uri": "https://localhost:8080/",
     "height": 684
    },
    "id": "wKa_YiHv-9ZC",
    "outputId": "d4b8c67d-d71d-48a4-9b9c-5c90fd0e9fe8"
   },
   "outputs": [],
   "source": [
    "# correlation among the features of each features in the data frame.\n",
    "corr_matrix = WQ_Big_Lake_Sammamish_df_mean.corr()\n",
    "round(corr_matrix,2)"
   ]
  },
  {
   "cell_type": "code",
   "execution_count": null,
   "metadata": {
    "colab": {
     "base_uri": "https://localhost:8080/"
    },
    "id": "B0AXWhUR_QCP",
    "outputId": "776f86c2-d7a2-4f0d-c889-af7b7ab48585"
   },
   "outputs": [],
   "source": [
    "# Looking for the correlations between WQI and rest of the features\n",
    "corr_matrix =WQ_Big_Lake_Sammamish_df_mean.corr()\n",
    "round(corr_matrix[\"WQI\"],2).sort_values(ascending=False)"
   ]
  },
  {
   "cell_type": "code",
   "execution_count": null,
   "metadata": {
    "colab": {
     "base_uri": "https://localhost:8080/",
     "height": 297
    },
    "id": "9Pt0OHIz98Cd",
    "outputId": "621be101-5292-4144-9e5a-4b8b744708d2"
   },
   "outputs": [],
   "source": [
    "# Scatter plots for each feature with Water Quality Index \"WQI\n",
    "fig,axis=plt.subplots(3,3)\n",
    "axis[0,0].scatter(WQ_Big_Lake_Sammamish_df_mean[\"WQI\"],WQ_Big_Lake_Sammamish_df_mean[\"Nitrate Nitrite (mg/L)\"], s=1) \n",
    "axis[0, 0].set_title('Nitrate Nitrite')\n",
    "axis[0,1].scatter(WQ_Big_Lake_Sammamish_df_mean[\"WQI\"],WQ_Big_Lake_Sammamish_df_mean[\"Total Nitrogen (mg/L)\"], s=1)\n",
    "axis[0, 1].set_title('Total Nitrogen')\n",
    "axis[0,2].scatter(WQ_Big_Lake_Sammamish_df_mean[\"WQI\"],WQ_Big_Lake_Sammamish_df_mean[\"Dissolved Oxygen (mg/L)\"], s=1)\n",
    "axis[0, 2].set_title('Dissolved Oxygen')\n",
    "axis[1,0].scatter(WQ_Big_Lake_Sammamish_df_mean[\"WQI\"],WQ_Big_Lake_Sammamish_df_mean[\"Orthophosphate Phosphate (mg/L)\"], s=1)\n",
    "axis[1,0].set_title('Orthophosphate Phosphate')\n",
    "axis[1,1].scatter(WQ_Big_Lake_Sammamish_df_mean[\"WQI\"],WQ_Big_Lake_Sammamish_df_mean[\"Total Phosphorus (mg/L)\"], s=1)\n",
    "axis[1,1].set_title('Total Phosphorus')\n",
    "axis[1,2].scatter(WQ_Big_Lake_Sammamish_df_mean[\"WQI\"],WQ_Big_Lake_Sammamish_df_mean[\"Fecal Coliform (CFU/100ml)\"], s=1)\n",
    "axis[1,2].set_title('Fecal Coliform')\n",
    "axis[2,0].scatter(WQ_Big_Lake_Sammamish_df_mean[\"WQI\"],WQ_Big_Lake_Sammamish_df_mean[\"pH\"], s=1)\n",
    "axis[2,0].set_title('pH')\n",
    "axis[2,1].scatter(WQ_Big_Lake_Sammamish_df_mean[\"WQI\"],WQ_Big_Lake_Sammamish_df_mean[\"Ammonia Nitrogen (mg/L)\"], s=1)\n",
    "axis[2,1].set_title('Ammonia Nitrogen')\n",
    "axis[2,2].scatter(WQ_Big_Lake_Sammamish_df_mean[\"WQI\"],WQ_Big_Lake_Sammamish_df_mean[\"Conductivity (µmhos/cm)\"], s=1)\n",
    "axis[2,2].set_title('Conductivity')\n",
    "plt.tight_layout()\n",
    "plt.show()"
   ]
  },
  {
   "cell_type": "code",
   "execution_count": null,
   "metadata": {
    "colab": {
     "base_uri": "https://localhost:8080/",
     "height": 297
    },
    "id": "nBFZwr9l99uz",
    "outputId": "2a04d6b3-c36c-4ec5-9b56-a360c0d522ce"
   },
   "outputs": [],
   "source": [
    "WQ_Big_Lake_Sammamish_df_mean.plot(kind=\"scatter\", x=\"Temperature (°C)\", y=\"WQI\")"
   ]
  },
  {
   "cell_type": "code",
   "execution_count": null,
   "metadata": {
    "colab": {
     "base_uri": "https://localhost:8080/"
    },
    "id": "1a2Tn-ON_K6D",
    "outputId": "08aeaeaf-9863-4a6e-e5bd-9c441c24c040"
   },
   "outputs": [],
   "source": [
    "WQ_Big_Lake_Sammamish_df.dtypes"
   ]
  },
  {
   "cell_type": "code",
   "execution_count": null,
   "metadata": {
    "colab": {
     "base_uri": "https://localhost:8080/",
     "height": 285
    },
    "id": "3JXWrpKtCCso",
    "outputId": "d8bfb33a-73b5-4798-96be-eee2a3cd41a6"
   },
   "outputs": [],
   "source": [
    "WQI_df_1 = WQ_Big_Lake_Sammamish_df.drop(columns=[\"CollectDate\"])\n",
    "WQI_df_1.head()"
   ]
  },
  {
   "cell_type": "code",
   "execution_count": null,
   "metadata": {
    "id": "V30F-8xf_KtS"
   },
   "outputs": [],
   "source": [
    "WQI_df_1[\"WQI\"] = round(WQI_df_1[\"WQI\"],2)"
   ]
  },
  {
   "cell_type": "code",
   "execution_count": null,
   "metadata": {
    "id": "0ezuu9anH9qx"
   },
   "outputs": [],
   "source": [
    "#Create the database\n",
    "conn = sql.connect('King_County_WQI.db')\n",
    "c = conn.cursor()"
   ]
  },
  {
   "cell_type": "code",
   "execution_count": null,
   "metadata": {
    "colab": {
     "base_uri": "https://localhost:8080/"
    },
    "id": "KciqKRHaUZvD",
    "outputId": "e4f2a946-f2df-4aec-c3ce-99d5a1d89dd2"
   },
   "outputs": [],
   "source": [
    "#Table of Parameters for King County Big Lakes \n",
    "create_sql=\"CREATE TABLE IF NOT EXISTS Big_Lake_Sammamish (collectdate INTEGER, Ammonia_Nitrogen INTEGER, Conductivity INTEGER, Dissolved_Oxygen INTEGER, Fecal_Coliform INTEGER, Nitrate_Nitrite INTEGER, Orthophosphate_Phosphate INTEGER, pH INTEGER, Temperature INTEGER, Total_Nitrogen INTEGER, Total_Phosphorous INTEGER, WQI INTEGER)\"\n",
    "cursor=conn.cursor()\n",
    "cursor.execute(create_sql)"
   ]
  },
  {
   "cell_type": "code",
   "execution_count": null,
   "metadata": {
    "colab": {
     "base_uri": "https://localhost:8080/",
     "height": 371
    },
    "id": "bI0jAy2MagcT",
    "outputId": "edff0089-28db-46bf-8460-ee760ac5b586"
   },
   "outputs": [],
   "source": [
    "# INSERTING VALUES\n",
    "#DataFrame all at once \n",
    "WQ_Big_Lake_Sammamish_df_mean.to_sql(name=\"Big_Lake_Sammamish\", con=conn, if_exists=\"replace\",index=False)\n",
    "WQ_Big_Lake_Sammamish_df_mean.head()"
   ]
  },
  {
   "cell_type": "code",
   "execution_count": null,
   "metadata": {
    "colab": {
     "base_uri": "https://localhost:8080/"
    },
    "id": "VieFaXdDjU-5",
    "outputId": "d6f3fa6c-2533-4579-e26e-177eb3b71f5a"
   },
   "outputs": [],
   "source": [
    "#Table of Parameters for CollectDate Vs WQI  \n",
    "create_sql=\"CREATE TABLE IF NOT EXISTS CollectDate_Vs_WQI  (collectdate INTEGER, WQI INTEGER)\"\n",
    "cursor=conn.cursor()\n",
    "cursor.execute(create_sql)"
   ]
  },
  {
   "cell_type": "code",
   "execution_count": null,
   "metadata": {
    "id": "QwxBfRDXiSaO"
   },
   "outputs": [],
   "source": [
    "# INSERTING VALUES\n",
    "from tables.table import Column\n",
    "#Row by row method \n",
    "for row in WQ_Big_Lake_Sammamish_df_mean.itertuples():\n",
    "    insert_sql=f\"INSERT INTO CollectDate_Vs_WQI (collectdate,WQI) VALUES('{row[0]}','{row[11]}')\"\n",
    "    cursor.execute(insert_sql) "
   ]
  },
  {
   "cell_type": "code",
   "execution_count": null,
   "metadata": {
    "id": "ez2sGvwBlg11"
   },
   "outputs": [],
   "source": [
    "# Import our dependencies\n",
    "from sklearn.model_selection import train_test_split\n",
    "from sklearn.preprocessing import StandardScaler\n",
    "import pandas as pd\n",
    "import sklearn as skl\n",
    "import tensorflow as tf"
   ]
  },
  {
   "cell_type": "code",
   "execution_count": null,
   "metadata": {
    "colab": {
     "base_uri": "https://localhost:8080/"
    },
    "id": "dNvLuNQiljg7",
    "outputId": "d1a24d9f-3db7-45f2-98ec-e74c8a7f7462"
   },
   "outputs": [],
   "source": [
    "### Sandardization of data ###\n",
    "from sklearn.preprocessing import StandardScaler\n",
    "\n",
    "X = WQI_df_1.drop([\"WQI\"],1).values\n",
    "y = WQI_df_1[\"WQI\"].values.reshape(-1,1)\n",
    "\n",
    "\n",
    "# To check the number of shapes\n",
    "print(X.shape)\n",
    "print(y.shape)\n",
    "\n",
    "# To check the first five entries\n",
    "print(y[:5])"
   ]
  },
  {
   "cell_type": "code",
   "execution_count": null,
   "metadata": {
    "colab": {
     "base_uri": "https://localhost:8080/"
    },
    "id": "YyOFVPf9lofJ",
    "outputId": "b8f450ef-2e89-4157-cbf2-b9f6a2851c1a"
   },
   "outputs": [],
   "source": [
    "# Create a StandardScaler instances\n",
    "scaler_X = skl.preprocessing.StandardScaler()\n",
    "scaler_y = skl.preprocessing.StandardScaler()\n",
    "\n",
    "# Use sklearn to split dataset\n",
    "from sklearn.model_selection import train_test_split\n",
    "X_train, X_test, y_train, y_test = train_test_split(X, y, random_state=78)\n",
    "\n",
    "\n",
    "# Fit the scaler\n",
    "scaler_X.fit(X_train)\n",
    "scaler_y.fit(y_train)\n",
    "\n",
    "# Scale the data\n",
    "X_train_scaled = scaler_X.transform(X_train)\n",
    "X_test_scaled = scaler_X.transform(X_test)\n",
    "# y_train_scaled = scaler_y.transform(y_train)\n",
    "# y_test_scaled = scaler_y.transform(y_test)\n",
    "y_train\n",
    "y_test\n",
    "\n",
    "print(X_train_scaled.shape)\n",
    "print(y_train.shape)\n",
    "print(X_test_scaled.shape)\n",
    "print(y_test.shape)"
   ]
  },
  {
   "cell_type": "code",
   "execution_count": null,
   "metadata": {
    "colab": {
     "base_uri": "https://localhost:8080/"
    },
    "id": "fhoDaczClom8",
    "outputId": "a47a382f-dccb-4756-be65-106834abb3a1"
   },
   "outputs": [],
   "source": [
    "# importing the libraries\n",
    "from keras.models import Sequential\n",
    "from keras.layers import Dense\n",
    " \n",
    "# Define the model - deep neural net, i.e., the number of input features and hidden nodes for each layer.\n",
    "number_input_features = 10\n",
    "hidden_nodes_layer1 = 30\n",
    "hidden_nodes_layer2 = 15\n",
    "\n",
    "model = tf.keras.models.Sequential()\n",
    "\n",
    "# First hidden layer\n",
    "model.add(tf.keras.layers.Dense(units=hidden_nodes_layer1, input_dim=number_input_features, activation=\"relu\"))\n",
    "\n",
    "\n",
    "# Second hidden layer\n",
    "model.add(tf.keras.layers.Dense(units=hidden_nodes_layer2, activation=\"relu\"))\n",
    "\n",
    "# Output layer\n",
    "model.add(tf.keras.layers.Dense(units=1, activation=\"linear\"))\n",
    "\n",
    "\n",
    "# Check the structure of the model\n",
    "model.summary()"
   ]
  },
  {
   "cell_type": "code",
   "execution_count": null,
   "metadata": {
    "id": "WOlkJkwFlorJ"
   },
   "outputs": [],
   "source": [
    "# Compiling the model\n",
    "#model.compile(loss='mean_squared_error', optimizer=\"adam\", metrics=[\"mse\"])\n",
    "model.compile(loss='mean_squared_error', optimizer=\"adam\")"
   ]
  },
  {
   "cell_type": "code",
   "execution_count": null,
   "metadata": {
    "colab": {
     "base_uri": "https://localhost:8080/"
    },
    "id": "zKlMOpBjlot9",
    "outputId": "a5e218d9-2b74-44e9-f892-c1e1037ba87c"
   },
   "outputs": [],
   "source": [
    "# Fitting the ANN to the Training set\n",
    "history = model.fit(X_train_scaled,y_train,validation_data=(X_test_scaled, y_test), epochs=100)"
   ]
  },
  {
   "cell_type": "code",
   "execution_count": null,
   "metadata": {
    "colab": {
     "base_uri": "https://localhost:8080/"
    },
    "id": "FgAA-ODwlowl",
    "outputId": "b401ac1d-33f2-4cd1-b359-a3040a6ed8d0"
   },
   "outputs": [],
   "source": [
    "# Making predictions using the testing data.\n",
    "y_pred = model.predict(X_test_scaled)\n",
    "print(y_pred.shape)\n",
    "print(y_pred)"
   ]
  },
  {
   "cell_type": "code",
   "execution_count": null,
   "metadata": {
    "colab": {
     "base_uri": "https://localhost:8080/"
    },
    "id": "THQeytM_lo35",
    "outputId": "dd1308b4-924d-4b3f-ccfb-55d6af5c2801"
   },
   "outputs": [],
   "source": [
    "print(y_test)"
   ]
  },
  {
   "cell_type": "code",
   "execution_count": null,
   "metadata": {
    "id": "tonD-ddTlo6u"
   },
   "outputs": [],
   "source": [
    "y_pred_new = []\n",
    "for i in y_pred:\n",
    "    y_pred_new.append(i[0])\n",
    "    \n",
    "y_test_new = []\n",
    "for i in y_test:\n",
    "    y_test_new.append(i[0])"
   ]
  },
  {
   "cell_type": "code",
   "execution_count": null,
   "metadata": {
    "colab": {
     "base_uri": "https://localhost:8080/",
     "height": 677
    },
    "id": "GI7q0cJ2lo9X",
    "outputId": "1c0a05e2-86a5-477f-c0bf-2191b34664f2"
   },
   "outputs": [],
   "source": [
    "import pandas as pd\n",
    "\n",
    "accuracy_df = pd.DataFrame({\"Prediction\":y_pred_new, \"Actual\":y_test_new})\n",
    "accuracy_df.head(20)"
   ]
  },
  {
   "cell_type": "code",
   "execution_count": null,
   "metadata": {
    "colab": {
     "base_uri": "https://localhost:8080/"
    },
    "id": "Cwm3ONXE0HdB",
    "outputId": "50dbab03-e272-49b5-8649-30637a966040"
   },
   "outputs": [],
   "source": [
    "#Table for WQI Predictions_Vs_Actual \n",
    "create_sql= \"CREATE TABLE IF NOT EXISTS Predictions_Vs_Actual ('Prediction' INTEGER, 'Actual' INTEGER)\"\n",
    "cursor=conn.cursor()\n",
    "cursor.execute(create_sql)"
   ]
  },
  {
   "cell_type": "code",
   "execution_count": null,
   "metadata": {
    "colab": {
     "base_uri": "https://localhost:8080/",
     "height": 363
    },
    "id": "mihBNL3TWU6I",
    "outputId": "9ca77816-85d8-45c9-d590-ca1259e29fb4"
   },
   "outputs": [],
   "source": [
    "# INSERTING VALUES\n",
    "#DataFrame all at once \n",
    "accuracy_df.to_sql(name=\"Predictions_Vs_Actual \", con=conn, if_exists=\"replace\",index=False)\n",
    "accuracy_df.head(10)"
   ]
  },
  {
   "cell_type": "code",
   "execution_count": null,
   "metadata": {
    "id": "yiLynjyyfiI6"
   },
   "outputs": [],
   "source": [
    "from tables.table import Column\n",
    "#Row by row method \n",
    "for row in accuracy_df.itertuples():\n",
    "   \n",
    "    insert_sql=f\"INSERT INTO Predictions_Vs_Actual (Prediction,Actual) VALUES('{row[1]}','{row[2]}')\"\n",
    "    cursor.execute(insert_sql) "
   ]
  },
  {
   "cell_type": "code",
   "execution_count": null,
   "metadata": {
    "colab": {
     "base_uri": "https://localhost:8080/"
    },
    "id": "BZbmAcXPfh-f",
    "outputId": "dd4f6e9f-1bf5-431d-be3e-9c3092f44759"
   },
   "outputs": [],
   "source": [
    "# WQI Predictions_Vs_Actual in the Excellent Range \n",
    "cursor=c.execute('''\n",
    "SELECT Prediction,Actual\n",
    "FROM Predictions_Vs_Actual\n",
    "WHERE Prediction BETWEEN 91 and 100\n",
    "ORDER BY Prediction;''')\n",
    "for row in cursor:\n",
    "    print(row)"
   ]
  },
  {
   "cell_type": "code",
   "execution_count": null,
   "metadata": {
    "colab": {
     "base_uri": "https://localhost:8080/",
     "height": 206
    },
    "id": "2VLPT0pFIUty",
    "outputId": "b7b07a19-c9ef-417a-bff4-4b900ecce38d"
   },
   "outputs": [],
   "source": [
    "# Create DataFrame Predictions_Vs_Actual in the Excellent Range for Lake Sammamish \n",
    "Predictions_Vs_Actual_Excellent_Lake_Sammamish_df =pd.read_sql('''\n",
    "SELECT Prediction,Actual\n",
    "FROM Predictions_Vs_Actual\n",
    "WHERE Prediction BETWEEN 91 and 100\n",
    "ORDER BY Prediction;''',conn)\n",
    "\n",
    "Predictions_Vs_Actual_Excellent_Lake_Sammamish_df.head(5)"
   ]
  },
  {
   "cell_type": "code",
   "execution_count": null,
   "metadata": {
    "colab": {
     "base_uri": "https://localhost:8080/"
    },
    "id": "XdxyO4BGIUle",
    "outputId": "5aa43a37-2182-435f-dafb-3091079909e9"
   },
   "outputs": [],
   "source": [
    "#Table of Parameters Predictions_Vs_Actual in the Excellent Range for Lake Sammamish \n",
    "create_sql=\"CREATE TABLE IF NOT EXISTS Predictions_Vs_Actual_Excellent_Lake_Sammamish (collectdate INTEGER, WQI INTEGER)\"\n",
    "cursor=conn.cursor()\n",
    "cursor.execute(create_sql)"
   ]
  },
  {
   "cell_type": "code",
   "execution_count": null,
   "metadata": {
    "id": "ETC1UscjIUSt"
   },
   "outputs": [],
   "source": [
    "# INSERTING VALUES\n",
    "from tables.table import Column\n",
    "#Row by row method \n",
    "for row in Predictions_Vs_Actual_Excellent_Lake_Sammamish_df.itertuples():\n",
    "    insert_sql=f\"INSERT INTO Predictions_Vs_Actual_Excellent_Lake_Sammamish(collectdate,WQI) VALUES('{row[1]}','{row[2]}')\"\n",
    "    cursor.execute(insert_sql) "
   ]
  },
  {
   "cell_type": "code",
   "execution_count": null,
   "metadata": {
    "colab": {
     "base_uri": "https://localhost:8080/"
    },
    "id": "D-bWRnv2JBSJ",
    "outputId": "a3d68200-c6f3-4992-b1fb-82fb4fbb058f"
   },
   "outputs": [],
   "source": [
    "# WQI Predictions_Vs_Actual in the Good Range \n",
    "cursor=c.execute('''\n",
    "SELECT Prediction,Actual\n",
    "FROM Predictions_Vs_Actual\n",
    "WHERE Prediction BETWEEN 76 and 90\n",
    "ORDER BY Prediction;''')\n",
    "for row in cursor:\n",
    "    print(row)"
   ]
  },
  {
   "cell_type": "code",
   "execution_count": null,
   "metadata": {
    "colab": {
     "base_uri": "https://localhost:8080/",
     "height": 206
    },
    "id": "w5Ya_e5OJeEV",
    "outputId": "f71b988d-a0bd-40a3-8b83-609bf5d6d15e"
   },
   "outputs": [],
   "source": [
    "# Create DataFrame Predictions_Vs_Actual in the Good Range for Lake Sammamish \n",
    "Predictions_Vs_Actual_Good_Lake_Sammamish_df =pd.read_sql('''\n",
    "SELECT Prediction,Actual\n",
    "FROM Predictions_Vs_Actual\n",
    "WHERE Prediction BETWEEN 76 and 90\n",
    "ORDER BY Prediction;''',conn)\n",
    "\n",
    "Predictions_Vs_Actual_Good_Lake_Sammamish_df.head(5)"
   ]
  },
  {
   "cell_type": "code",
   "execution_count": null,
   "metadata": {
    "colab": {
     "base_uri": "https://localhost:8080/"
    },
    "id": "2vsQsKd3Jd8h",
    "outputId": "7108e738-cb78-4174-8a99-589a6df8137c"
   },
   "outputs": [],
   "source": [
    "#Table of Parameters Predictions_Vs_Actual in the Good Range for Lake Sammamish \n",
    "create_sql=\"CREATE TABLE IF NOT EXISTS Predictions_Vs_Actual_Good_Lake_Sammamish(collectdate INTEGER, WQI INTEGER)\"\n",
    "cursor=conn.cursor()\n",
    "cursor.execute(create_sql)"
   ]
  },
  {
   "cell_type": "code",
   "execution_count": null,
   "metadata": {
    "id": "G920X4FeJdzr"
   },
   "outputs": [],
   "source": [
    "# INSERTING VALUES\n",
    "from tables.table import Column\n",
    "#Row by row method \n",
    "for row in Predictions_Vs_Actual_Good_Lake_Sammamish_df.itertuples():\n",
    "    insert_sql=f\"INSERT INTO Predictions_Vs_Actual_Good_Lake_Sammamish(collectdate,WQI) VALUES('{row[1]}','{row[2]}')\"\n",
    "    cursor.execute(insert_sql) "
   ]
  },
  {
   "cell_type": "code",
   "execution_count": null,
   "metadata": {
    "colab": {
     "base_uri": "https://localhost:8080/"
    },
    "id": "kkJvjNtGg-0c",
    "outputId": "34a87b68-555a-4455-d975-3f95ab74b287"
   },
   "outputs": [],
   "source": [
    "# WQI Predictions_Vs_Actual in the Fair Range \n",
    "cursor=c.execute('''\n",
    "SELECT Prediction,Actual\n",
    "FROM Predictions_Vs_Actual\n",
    "WHERE Prediction BETWEEN 51 and 75\n",
    "ORDER BY Prediction;''')\n",
    "for row in cursor:\n",
    "    print(row)"
   ]
  },
  {
   "cell_type": "code",
   "execution_count": null,
   "metadata": {
    "colab": {
     "base_uri": "https://localhost:8080/",
     "height": 206
    },
    "id": "eHbeaBphJXYN",
    "outputId": "370f191e-448a-4386-ff37-f0fc127d2d78"
   },
   "outputs": [],
   "source": [
    "# Create DataFrame for WQI in the Predictions_Vs_Actual Fair Range Lake Sammamish \n",
    "Predictions_Vs_Actual_Fair_Lake_Sammamish_df =pd.read_sql('''\n",
    "SELECT Prediction,Actual\n",
    "FROM Predictions_Vs_Actual\n",
    "WHERE Prediction BETWEEN 51 and 75\n",
    "ORDER BY Prediction;''',conn)\n",
    "\n",
    "Predictions_Vs_Actual_Fair_Lake_Sammamish_df.head(5)"
   ]
  },
  {
   "cell_type": "code",
   "execution_count": null,
   "metadata": {
    "colab": {
     "base_uri": "https://localhost:8080/"
    },
    "id": "c4t4yfdFJXQZ",
    "outputId": "5f1b8199-8fbb-4025-9d28-723e717c57ed"
   },
   "outputs": [],
   "source": [
    "#Table of Parameters for WQI in the Predictions_Vs_Actual  Fair Range Lake Sammamish \n",
    "create_sql=\"CREATE TABLE IF NOT EXISTS Predictions_Vs_Actual_Fair_Lake_Sammamish (collectdate INTEGER, WQI INTEGER)\"\n",
    "cursor=conn.cursor()\n",
    "cursor.execute(create_sql)"
   ]
  },
  {
   "cell_type": "code",
   "execution_count": null,
   "metadata": {
    "id": "Vp2uvkDGJXKJ"
   },
   "outputs": [],
   "source": [
    "# INSERTING VALUES\n",
    "from tables.table import Column\n",
    "#Row by row method \n",
    "for row in Predictions_Vs_Actual_Fair_Lake_Sammamish_df.itertuples():\n",
    "    insert_sql=f\"INSERT INTO Predictions_Vs_Actual_Fair_Lake_Sammamish (collectdate,WQI) VALUES('{row[1]}','{row[2]}')\"\n",
    "    cursor.execute(insert_sql) "
   ]
  },
  {
   "cell_type": "code",
   "execution_count": null,
   "metadata": {
    "colab": {
     "base_uri": "https://localhost:8080/"
    },
    "id": "N8GGLzhShF3w",
    "outputId": "58f06960-237a-4749-fe83-bffe11246795"
   },
   "outputs": [],
   "source": [
    "# WQI Predictions_Vs_Actual in the Poor Range \n",
    "cursor=c.execute('''\n",
    "SELECT Prediction,Actual\n",
    "FROM Predictions_Vs_Actual\n",
    "WHERE Prediction BETWEEN 26 and 50\n",
    "ORDER BY Prediction;''')\n",
    "for row in cursor:\n",
    "    print(row)"
   ]
  },
  {
   "cell_type": "code",
   "execution_count": null,
   "metadata": {
    "colab": {
     "base_uri": "https://localhost:8080/",
     "height": 206
    },
    "id": "PyuxKgLSKX6t",
    "outputId": "69044993-e7c9-46c0-8f9b-bd51e4527c0d"
   },
   "outputs": [],
   "source": [
    "# Create DataFrame for WQI in the Predictions_Vs_Actual Poor Range Lake Sammamish \n",
    "Predictions_Vs_Actual_Poor_Lake_Sammamish_df =pd.read_sql('''\n",
    "SELECT Prediction,Actual\n",
    "FROM Predictions_Vs_Actual\n",
    "WHERE Prediction BETWEEN 26 and 50\n",
    "ORDER BY Prediction;''',conn)\n",
    "\n",
    "Predictions_Vs_Actual_Poor_Lake_Sammamish_df.head(5)"
   ]
  },
  {
   "cell_type": "code",
   "execution_count": null,
   "metadata": {
    "colab": {
     "base_uri": "https://localhost:8080/"
    },
    "id": "o4xs5c1ZKXzJ",
    "outputId": "482216ae-4032-4b96-abd1-0a1d79f969ff"
   },
   "outputs": [],
   "source": [
    "#Table of Parameters for WQI in the Predictions_Vs_Actual Poor Range Lake Sammamish \n",
    "create_sql=\"CREATE TABLE IF NOT EXISTS Predictions_Vs_Actual_Poor_Lake_Sammamish(collectdate INTEGER, WQI INTEGER)\"\n",
    "cursor=conn.cursor()\n",
    "cursor.execute(create_sql)"
   ]
  },
  {
   "cell_type": "code",
   "execution_count": null,
   "metadata": {
    "id": "hjFSrA0-KXrm"
   },
   "outputs": [],
   "source": [
    "# INSERTING VALUES\n",
    "from tables.table import Column\n",
    "#Row by row method \n",
    "for row in Predictions_Vs_Actual_Poor_Lake_Sammamish_df.itertuples():\n",
    "    insert_sql=f\"INSERT INTO Predictions_Vs_Actual_Poor_Lake_Sammamish(collectdate,WQI) VALUES('{row[1]}','{row[2]}')\"\n",
    "    cursor.execute(insert_sql) "
   ]
  },
  {
   "cell_type": "code",
   "execution_count": null,
   "metadata": {
    "colab": {
     "base_uri": "https://localhost:8080/"
    },
    "id": "aN5n3FwAUrrn",
    "outputId": "aaa52aab-6176-4a2e-fe3d-26dab4a07677"
   },
   "outputs": [],
   "source": [
    "# WQI Predictions_Vs_Actual in the Very Poor Range \n",
    "cursor=c.execute('''\n",
    "SELECT Prediction,Actual\n",
    "FROM Predictions_Vs_Actual\n",
    "WHERE Prediction BETWEEN 0 and 25\n",
    "ORDER BY Prediction;''')\n",
    "for row in cursor:\n",
    "    print(row)"
   ]
  },
  {
   "cell_type": "code",
   "execution_count": null,
   "metadata": {
    "colab": {
     "base_uri": "https://localhost:8080/",
     "height": 206
    },
    "id": "52d8Jw9FUS_J",
    "outputId": "5e5ce1f8-a140-4881-cfb1-b09aa3a8830d"
   },
   "outputs": [],
   "source": [
    "# WQI Predictions_Vs_Actual in the Very Poor Range \n",
    "Predictions_Vs_Actual_Very_Poor_Lake_Sammamish_df=pd.read_sql('''\n",
    "SELECT Prediction,Actual\n",
    "FROM Predictions_Vs_Actual\n",
    "WHERE Prediction BETWEEN 0 and 25\n",
    "ORDER BY Prediction;''',conn)\n",
    "Predictions_Vs_Actual_Very_Poor_Lake_Sammamish_df.head(5)"
   ]
  },
  {
   "cell_type": "code",
   "execution_count": null,
   "metadata": {
    "colab": {
     "base_uri": "https://localhost:8080/"
    },
    "id": "svEGCgodKr_W",
    "outputId": "6ff78734-b10f-47a3-d454-c126f79f04a5"
   },
   "outputs": [],
   "source": [
    "#Table of Parameters for WQI in the Very Poor Range Lake Sammamish \n",
    "create_sql=\"CREATE TABLE IF NOT EXISTS Predictions_Vs_Actual_Very_Poor_Lake_Sammamish(collectdate INTEGER, WQI INTEGER)\"\n",
    "cursor=conn.cursor()\n",
    "cursor.execute(create_sql)"
   ]
  },
  {
   "cell_type": "code",
   "execution_count": null,
   "metadata": {
    "id": "g_W9CWJuKr5H"
   },
   "outputs": [],
   "source": [
    "# INSERTING VALUES\n",
    "from tables.table import Column\n",
    "#Row by row method \n",
    "for row in Predictions_Vs_Actual_Very_Poor_Lake_Sammamish_df.itertuples():\n",
    "    insert_sql=f\"INSERT INTO Predictions_Vs_Actual_Very_Poor_Lake_Sammamish(collectdate,WQI) VALUES('{row[1]}','{row[2]}')\"\n",
    "    cursor.execute(insert_sql) "
   ]
  },
  {
   "cell_type": "code",
   "execution_count": null,
   "metadata": {
    "colab": {
     "base_uri": "https://localhost:8080/"
    },
    "id": "8IPBuYMLlo_r",
    "outputId": "5a14b5fc-1008-4619-a857-d4d7a57bbffb"
   },
   "outputs": [],
   "source": [
    "# evaluate the model\n",
    "train_mse = model.evaluate(X_train_scaled, y_train, verbose=0)\n",
    "test_mse = model.evaluate(X_test_scaled,y_test, verbose=0)\n",
    "print('Train: %.3f, Test: %.3f' % (train_mse, test_mse))"
   ]
  },
  {
   "cell_type": "code",
   "execution_count": null,
   "metadata": {
    "colab": {
     "base_uri": "https://localhost:8080/",
     "height": 281
    },
    "id": "N_n2l_SclpCj",
    "outputId": "e73a6c33-eb8d-488b-ddb8-cf5831c4eec9"
   },
   "outputs": [],
   "source": [
    "from matplotlib import pyplot\n",
    "#plot loss during training\n",
    "pyplot.title('Loss / Mean Squared Error')\n",
    "pyplot.plot(history.history['loss'], label='train')\n",
    "pyplot.plot(history.history['val_loss'], label='test')\n",
    "#pyplot.plot(history.history['mean_squared_error'], label='mse')\n",
    "pyplot.legend()\n",
    "pyplot.show()"
   ]
  },
  {
   "cell_type": "code",
   "execution_count": null,
   "metadata": {
    "colab": {
     "base_uri": "https://localhost:8080/",
     "height": 320
    },
    "id": "8ctZ5SxYubYj",
    "outputId": "3016a786-f4f6-4005-ad7f-fbd6ec40db31"
   },
   "outputs": [],
   "source": [
    "from matplotlib import pyplot\n",
    "plt.figure(figsize=(10, 5))\n",
    "plt.title('')\n",
    "plt.plot(accuracy_df['Actual'], label='Actual values', color='orange', linewidth=5)\n",
    "plt.plot(accuracy_df['Prediction'], label='Predicted', linewidth=1, linestyle='dashed')\n",
    "plt.legend()\n",
    "plt.show()"
   ]
  },
  {
   "cell_type": "code",
   "execution_count": null,
   "metadata": {
    "colab": {
     "base_uri": "https://localhost:8080/",
     "height": 265
    },
    "id": "9JSarVFsuc1x",
    "outputId": "97c9934e-0853-477a-e150-86b00c017414"
   },
   "outputs": [],
   "source": [
    "from matplotlib import pyplot\n",
    "plt.title('')\n",
    "#plt.plot(accuracy_df['Actual'], label='Actual values')\n",
    "plt.plot(accuracy_df['Prediction'], label='Predicted')\n",
    "plt.legend()\n",
    "plt.show()"
   ]
  },
  {
   "cell_type": "code",
   "execution_count": null,
   "metadata": {
    "colab": {
     "base_uri": "https://localhost:8080/",
     "height": 282
    },
    "id": "QzoTvAELuxG8",
    "outputId": "e35d4938-92f9-4f54-d6e9-df9cd289f7d3"
   },
   "outputs": [],
   "source": [
    "from matplotlib import pyplot\n",
    "plt.title('')\n",
    "x=accuracy_df['Actual']\n",
    "y=accuracy_df['Prediction']\n",
    "plt.scatter(x,y)\n",
    "\n",
    "plt.legend()\n",
    "plt.show()"
   ]
  },
  {
   "cell_type": "code",
   "execution_count": null,
   "metadata": {
    "id": "OpKRES_YGDBP"
   },
   "outputs": [],
   "source": [
    "# Close database connection\n",
    "conn.commit()\n",
    "conn.close()"
   ]
  }
 ],
 "metadata": {
  "colab": {
   "provenance": []
  },
  "kernelspec": {
   "display_name": "Python 3 (ipykernel)",
   "language": "python",
   "name": "python3"
  },
  "language_info": {
   "codemirror_mode": {
    "name": "ipython",
    "version": 3
   },
   "file_extension": ".py",
   "mimetype": "text/x-python",
   "name": "python",
   "nbconvert_exporter": "python",
   "pygments_lexer": "ipython3",
   "version": "3.9.12"
  }
 },
 "nbformat": 4,
 "nbformat_minor": 1
}

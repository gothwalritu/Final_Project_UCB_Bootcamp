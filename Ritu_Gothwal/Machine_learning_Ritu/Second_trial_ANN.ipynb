{
 "cells": [
  {
   "cell_type": "markdown",
   "id": "8621b531",
   "metadata": {},
   "source": [
    "# Merging all the csv files for lake Sammamish"
   ]
  },
  {
   "cell_type": "code",
   "execution_count": 1,
   "id": "3e63a556",
   "metadata": {},
   "outputs": [
    {
     "name": "stdout",
     "output_type": "stream",
     "text": [
      "(5966, 12)\n"
     ]
    },
    {
     "name": "stderr",
     "output_type": "stream",
     "text": [
      "C:\\Users\\gothw\\AppData\\Local\\Temp\\ipykernel_70004\\2308717948.py:18: FutureWarning: The frame.append method is deprecated and will be removed from pandas in a future version. Use pandas.concat instead.\n",
      "  WQI_df = df_1.append(df_2)\n"
     ]
    },
    {
     "data": {
      "text/html": [
       "<div>\n",
       "<style scoped>\n",
       "    .dataframe tbody tr th:only-of-type {\n",
       "        vertical-align: middle;\n",
       "    }\n",
       "\n",
       "    .dataframe tbody tr th {\n",
       "        vertical-align: top;\n",
       "    }\n",
       "\n",
       "    .dataframe thead th {\n",
       "        text-align: right;\n",
       "    }\n",
       "</style>\n",
       "<table border=\"1\" class=\"dataframe\">\n",
       "  <thead>\n",
       "    <tr style=\"text-align: right;\">\n",
       "      <th></th>\n",
       "      <th>CollectDate</th>\n",
       "      <th>Ammmonia Nitrogen (mg/L)</th>\n",
       "      <th>Conductivity (µmhos/cm)</th>\n",
       "      <th>Dissolved Oxygen (mg/L)</th>\n",
       "      <th>Fecal Coliform (CFU/100ml)</th>\n",
       "      <th>Nitrate Nitrite (mg/L)</th>\n",
       "      <th>Orthophosphate Phosphate (mg/L)</th>\n",
       "      <th>pH</th>\n",
       "      <th>Temperature (°C)</th>\n",
       "      <th>Total Nitrogen (mg/L)</th>\n",
       "      <th>Total Phosphorus (mg/L)</th>\n",
       "      <th>WQI</th>\n",
       "    </tr>\n",
       "  </thead>\n",
       "  <tbody>\n",
       "    <tr>\n",
       "      <th>0</th>\n",
       "      <td>1994-01-06</td>\n",
       "      <td>0.02</td>\n",
       "      <td>103.0</td>\n",
       "      <td>9.15</td>\n",
       "      <td>1.0</td>\n",
       "      <td>0.27</td>\n",
       "      <td>0.011</td>\n",
       "      <td>7.4</td>\n",
       "      <td>7.4</td>\n",
       "      <td>0.410000</td>\n",
       "      <td>0.017000</td>\n",
       "      <td>94.891147</td>\n",
       "    </tr>\n",
       "    <tr>\n",
       "      <th>1</th>\n",
       "      <td>1994-01-06</td>\n",
       "      <td>0.02</td>\n",
       "      <td>104.0</td>\n",
       "      <td>8.98</td>\n",
       "      <td>1.0</td>\n",
       "      <td>0.28</td>\n",
       "      <td>0.012</td>\n",
       "      <td>7.4</td>\n",
       "      <td>7.3</td>\n",
       "      <td>0.416667</td>\n",
       "      <td>0.019667</td>\n",
       "      <td>98.699450</td>\n",
       "    </tr>\n",
       "    <tr>\n",
       "      <th>2</th>\n",
       "      <td>1994-01-06</td>\n",
       "      <td>0.02</td>\n",
       "      <td>102.0</td>\n",
       "      <td>9.00</td>\n",
       "      <td>1.0</td>\n",
       "      <td>0.29</td>\n",
       "      <td>0.012</td>\n",
       "      <td>7.4</td>\n",
       "      <td>7.3</td>\n",
       "      <td>0.440000</td>\n",
       "      <td>0.019000</td>\n",
       "      <td>101.553997</td>\n",
       "    </tr>\n",
       "    <tr>\n",
       "      <th>3</th>\n",
       "      <td>1994-01-06</td>\n",
       "      <td>0.02</td>\n",
       "      <td>105.0</td>\n",
       "      <td>9.21</td>\n",
       "      <td>1.0</td>\n",
       "      <td>0.28</td>\n",
       "      <td>0.012</td>\n",
       "      <td>7.4</td>\n",
       "      <td>7.3</td>\n",
       "      <td>0.416667</td>\n",
       "      <td>0.019667</td>\n",
       "      <td>98.722325</td>\n",
       "    </tr>\n",
       "    <tr>\n",
       "      <th>4</th>\n",
       "      <td>1994-01-06</td>\n",
       "      <td>0.02</td>\n",
       "      <td>104.0</td>\n",
       "      <td>9.20</td>\n",
       "      <td>1.0</td>\n",
       "      <td>0.28</td>\n",
       "      <td>0.012</td>\n",
       "      <td>7.4</td>\n",
       "      <td>7.3</td>\n",
       "      <td>0.416667</td>\n",
       "      <td>0.019667</td>\n",
       "      <td>98.721299</td>\n",
       "    </tr>\n",
       "  </tbody>\n",
       "</table>\n",
       "</div>"
      ],
      "text/plain": [
       "  CollectDate  Ammmonia Nitrogen (mg/L)  Conductivity (µmhos/cm)  \\\n",
       "0  1994-01-06                      0.02                    103.0   \n",
       "1  1994-01-06                      0.02                    104.0   \n",
       "2  1994-01-06                      0.02                    102.0   \n",
       "3  1994-01-06                      0.02                    105.0   \n",
       "4  1994-01-06                      0.02                    104.0   \n",
       "\n",
       "   Dissolved Oxygen (mg/L)  Fecal Coliform (CFU/100ml)  \\\n",
       "0                     9.15                         1.0   \n",
       "1                     8.98                         1.0   \n",
       "2                     9.00                         1.0   \n",
       "3                     9.21                         1.0   \n",
       "4                     9.20                         1.0   \n",
       "\n",
       "   Nitrate Nitrite (mg/L)  Orthophosphate Phosphate (mg/L)   pH  \\\n",
       "0                    0.27                            0.011  7.4   \n",
       "1                    0.28                            0.012  7.4   \n",
       "2                    0.29                            0.012  7.4   \n",
       "3                    0.28                            0.012  7.4   \n",
       "4                    0.28                            0.012  7.4   \n",
       "\n",
       "   Temperature (°C)  Total Nitrogen (mg/L)  Total Phosphorus (mg/L)  \\\n",
       "0               7.4               0.410000                 0.017000   \n",
       "1               7.3               0.416667                 0.019667   \n",
       "2               7.3               0.440000                 0.019000   \n",
       "3               7.3               0.416667                 0.019667   \n",
       "4               7.3               0.416667                 0.019667   \n",
       "\n",
       "          WQI  \n",
       "0   94.891147  \n",
       "1   98.699450  \n",
       "2  101.553997  \n",
       "3   98.722325  \n",
       "4   98.721299  "
      ]
     },
     "execution_count": 1,
     "metadata": {},
     "output_type": "execute_result"
    }
   ],
   "source": [
    "\n",
    "import pandas as pd \n",
    "\n",
    "df_1 = pd.read_csv(\"../Resources_Ritu/0611_lake_Sammamish.csv\").drop(['Unnamed: 0'],axis=1)\n",
    "\n",
    "df_2 = pd.read_csv(\"../Resources_Ritu/0612_lake_Sammamish.csv\").drop(['Unnamed: 0'],axis=1)\n",
    "\n",
    "df_3 = pd.read_csv(\"../Resources_Ritu/0614_lake_Sammamish.csv\").drop(['Unnamed: 0'],axis=1)\n",
    "\n",
    "df_4 = pd.read_csv(\"../Resources_Ritu/0617_lake_Sammamish.csv\").drop(['Unnamed: 0'],axis=1)\n",
    "\n",
    "df_5 = pd.read_csv(\"../Resources_Ritu/0622_lake_Sammamish.csv\").drop(['Unnamed: 0'],axis=1)\n",
    "\n",
    "df_6 = pd.read_csv(\"../Resources_Ritu/0625_lake_Sammamish.csv\").drop(['Unnamed: 0'],axis=1)\n",
    "\n",
    "df_7 = pd.read_csv(\"../Resources_Ritu/M621_lake_Sammamish.csv\").drop(['Unnamed: 0'],axis=1)\n",
    "\n",
    "\n",
    "WQI_df = df_1.append(df_2)\n",
    "print(WQI_df.shape)\n",
    "WQI_df.head()\n",
    "\n"
   ]
  },
  {
   "cell_type": "code",
   "execution_count": 2,
   "id": "c3f8492f",
   "metadata": {},
   "outputs": [
    {
     "name": "stdout",
     "output_type": "stream",
     "text": [
      "(9513, 12)\n"
     ]
    },
    {
     "data": {
      "text/html": [
       "<div>\n",
       "<style scoped>\n",
       "    .dataframe tbody tr th:only-of-type {\n",
       "        vertical-align: middle;\n",
       "    }\n",
       "\n",
       "    .dataframe tbody tr th {\n",
       "        vertical-align: top;\n",
       "    }\n",
       "\n",
       "    .dataframe thead th {\n",
       "        text-align: right;\n",
       "    }\n",
       "</style>\n",
       "<table border=\"1\" class=\"dataframe\">\n",
       "  <thead>\n",
       "    <tr style=\"text-align: right;\">\n",
       "      <th></th>\n",
       "      <th>CollectDate</th>\n",
       "      <th>Ammmonia Nitrogen (mg/L)</th>\n",
       "      <th>Conductivity (µmhos/cm)</th>\n",
       "      <th>Dissolved Oxygen (mg/L)</th>\n",
       "      <th>Fecal Coliform (CFU/100ml)</th>\n",
       "      <th>Nitrate Nitrite (mg/L)</th>\n",
       "      <th>Orthophosphate Phosphate (mg/L)</th>\n",
       "      <th>pH</th>\n",
       "      <th>Temperature (°C)</th>\n",
       "      <th>Total Nitrogen (mg/L)</th>\n",
       "      <th>Total Phosphorus (mg/L)</th>\n",
       "      <th>WQI</th>\n",
       "    </tr>\n",
       "  </thead>\n",
       "  <tbody>\n",
       "    <tr>\n",
       "      <th>0</th>\n",
       "      <td>1994-01-06</td>\n",
       "      <td>0.02</td>\n",
       "      <td>103.0</td>\n",
       "      <td>9.15</td>\n",
       "      <td>1.0</td>\n",
       "      <td>0.27</td>\n",
       "      <td>0.011</td>\n",
       "      <td>7.4</td>\n",
       "      <td>7.4</td>\n",
       "      <td>0.410000</td>\n",
       "      <td>0.017000</td>\n",
       "      <td>94.891147</td>\n",
       "    </tr>\n",
       "    <tr>\n",
       "      <th>1</th>\n",
       "      <td>1994-01-06</td>\n",
       "      <td>0.02</td>\n",
       "      <td>104.0</td>\n",
       "      <td>8.98</td>\n",
       "      <td>1.0</td>\n",
       "      <td>0.28</td>\n",
       "      <td>0.012</td>\n",
       "      <td>7.4</td>\n",
       "      <td>7.3</td>\n",
       "      <td>0.416667</td>\n",
       "      <td>0.019667</td>\n",
       "      <td>98.699450</td>\n",
       "    </tr>\n",
       "    <tr>\n",
       "      <th>2</th>\n",
       "      <td>1994-01-06</td>\n",
       "      <td>0.02</td>\n",
       "      <td>102.0</td>\n",
       "      <td>9.00</td>\n",
       "      <td>1.0</td>\n",
       "      <td>0.29</td>\n",
       "      <td>0.012</td>\n",
       "      <td>7.4</td>\n",
       "      <td>7.3</td>\n",
       "      <td>0.440000</td>\n",
       "      <td>0.019000</td>\n",
       "      <td>101.553997</td>\n",
       "    </tr>\n",
       "    <tr>\n",
       "      <th>3</th>\n",
       "      <td>1994-01-06</td>\n",
       "      <td>0.02</td>\n",
       "      <td>105.0</td>\n",
       "      <td>9.21</td>\n",
       "      <td>1.0</td>\n",
       "      <td>0.28</td>\n",
       "      <td>0.012</td>\n",
       "      <td>7.4</td>\n",
       "      <td>7.3</td>\n",
       "      <td>0.416667</td>\n",
       "      <td>0.019667</td>\n",
       "      <td>98.722325</td>\n",
       "    </tr>\n",
       "    <tr>\n",
       "      <th>4</th>\n",
       "      <td>1994-01-06</td>\n",
       "      <td>0.02</td>\n",
       "      <td>104.0</td>\n",
       "      <td>9.20</td>\n",
       "      <td>1.0</td>\n",
       "      <td>0.28</td>\n",
       "      <td>0.012</td>\n",
       "      <td>7.4</td>\n",
       "      <td>7.3</td>\n",
       "      <td>0.416667</td>\n",
       "      <td>0.019667</td>\n",
       "      <td>98.721299</td>\n",
       "    </tr>\n",
       "  </tbody>\n",
       "</table>\n",
       "</div>"
      ],
      "text/plain": [
       "  CollectDate  Ammmonia Nitrogen (mg/L)  Conductivity (µmhos/cm)  \\\n",
       "0  1994-01-06                      0.02                    103.0   \n",
       "1  1994-01-06                      0.02                    104.0   \n",
       "2  1994-01-06                      0.02                    102.0   \n",
       "3  1994-01-06                      0.02                    105.0   \n",
       "4  1994-01-06                      0.02                    104.0   \n",
       "\n",
       "   Dissolved Oxygen (mg/L)  Fecal Coliform (CFU/100ml)  \\\n",
       "0                     9.15                         1.0   \n",
       "1                     8.98                         1.0   \n",
       "2                     9.00                         1.0   \n",
       "3                     9.21                         1.0   \n",
       "4                     9.20                         1.0   \n",
       "\n",
       "   Nitrate Nitrite (mg/L)  Orthophosphate Phosphate (mg/L)   pH  \\\n",
       "0                    0.27                            0.011  7.4   \n",
       "1                    0.28                            0.012  7.4   \n",
       "2                    0.29                            0.012  7.4   \n",
       "3                    0.28                            0.012  7.4   \n",
       "4                    0.28                            0.012  7.4   \n",
       "\n",
       "   Temperature (°C)  Total Nitrogen (mg/L)  Total Phosphorus (mg/L)  \\\n",
       "0               7.4               0.410000                 0.017000   \n",
       "1               7.3               0.416667                 0.019667   \n",
       "2               7.3               0.440000                 0.019000   \n",
       "3               7.3               0.416667                 0.019667   \n",
       "4               7.3               0.416667                 0.019667   \n",
       "\n",
       "          WQI  \n",
       "0   94.891147  \n",
       "1   98.699450  \n",
       "2  101.553997  \n",
       "3   98.722325  \n",
       "4   98.721299  "
      ]
     },
     "execution_count": 2,
     "metadata": {},
     "output_type": "execute_result"
    }
   ],
   "source": [
    "# append multiple DataFrames\n",
    "\n",
    "df_WQI_big = pd.concat([df_1, df_2, df_3, df_4, df_5, df_6, df_7], ignore_index=True)\n",
    "print(df_WQI_big.shape)\n",
    "df_WQI_big.head()"
   ]
  },
  {
   "cell_type": "code",
   "execution_count": 3,
   "id": "c60d2172",
   "metadata": {},
   "outputs": [],
   "source": [
    "# Create the output file (CSV)\n",
    "\n",
    "output_data_file = \"../Resources_Ritu/Big_lake_Sammamish.csv\"\n",
    "\n",
    "# Export the clean water quality data \n",
    "\n",
    "df_WQI_big.to_csv(output_data_file, index=\"CollectDate\")"
   ]
  },
  {
   "cell_type": "markdown",
   "id": "e3d00252",
   "metadata": {},
   "source": [
    "# Preprocessing the Data for Neural Network"
   ]
  },
  {
   "cell_type": "code",
   "execution_count": 1,
   "id": "2c9944b6",
   "metadata": {},
   "outputs": [
    {
     "ename": "NameError",
     "evalue": "name 'WQI_df' is not defined",
     "output_type": "error",
     "traceback": [
      "\u001b[1;31m---------------------------------------------------------------------------\u001b[0m",
      "\u001b[1;31mNameError\u001b[0m                                 Traceback (most recent call last)",
      "Cell \u001b[1;32mIn [1], line 12\u001b[0m\n\u001b[0;32m      9\u001b[0m \u001b[38;5;28;01mimport\u001b[39;00m \u001b[38;5;21;01mpandas\u001b[39;00m \u001b[38;5;28;01mas\u001b[39;00m \u001b[38;5;21;01mpd\u001b[39;00m \n\u001b[0;32m     10\u001b[0m \u001b[38;5;66;03m#WQI_df = pd.read_csv(\"../Resources_Ritu/0611_lake_Sammamish.csv\").drop(['Unnamed: 0'],axis=1)\u001b[39;00m\n\u001b[1;32m---> 12\u001b[0m \u001b[43mWQI_df\u001b[49m\u001b[38;5;241m.\u001b[39mhead()\n",
      "\u001b[1;31mNameError\u001b[0m: name 'WQI_df' is not defined"
     ]
    }
   ],
   "source": [
    "# Import our dependencies\n",
    "from sklearn.model_selection import train_test_split\n",
    "from sklearn.preprocessing import StandardScaler,OneHotEncoder\n",
    "import pandas as pd\n",
    "import tensorflow as tf\n",
    "\n",
    "\n",
    "#  Import and read the charity_data.csv.\n",
    "import pandas as pd \n",
    "#WQI_df = pd.read_csv(\"../Resources_Ritu/0611_lake_Sammamish.csv\").drop(['Unnamed: 0'],axis=1)\n",
    "\n",
    "WQI_df.head()"
   ]
  },
  {
   "cell_type": "code",
   "execution_count": null,
   "id": "18d751e7",
   "metadata": {},
   "outputs": [],
   "source": [
    "# Data Summary\n",
    "\n",
    "WQI_df.describe()"
   ]
  },
  {
   "cell_type": "code",
   "execution_count": null,
   "id": "ce5d2918",
   "metadata": {},
   "outputs": [],
   "source": [
    "# convert string to datetime\n",
    "WQI_df[\"CollectDate\"] = pd.to_datetime(WQI_df[\"CollectDate\"])"
   ]
  },
  {
   "cell_type": "code",
   "execution_count": null,
   "id": "140f63a4",
   "metadata": {},
   "outputs": [],
   "source": [
    "# Histogram shows the number of instances that have a given value range. Using jupyter's magic command to specify which backend Matplotlib should use.\n",
    "%matplotlib inline\n",
    "import matplotlib.pyplot as plt\n",
    "WQI_df.hist(bins=50, figsize=(20,15))\n",
    "plt.show()"
   ]
  },
  {
   "cell_type": "code",
   "execution_count": null,
   "id": "0f158509",
   "metadata": {},
   "outputs": [],
   "source": [
    "# Visualize the value counts of APPLICATION_TYPE\n",
    "\n",
    "WQI_df[\"WQI\"].plot.density()"
   ]
  },
  {
   "cell_type": "code",
   "execution_count": null,
   "id": "051e8acc",
   "metadata": {},
   "outputs": [],
   "source": []
  },
  {
   "cell_type": "code",
   "execution_count": null,
   "id": "4d5a019f",
   "metadata": {},
   "outputs": [],
   "source": [
    "WQI_df_mean = WQI_df.groupby([\"CollectDate\"]).mean()\n",
    "WQI_df_mean.head(20)"
   ]
  },
  {
   "cell_type": "code",
   "execution_count": null,
   "id": "fb355e67",
   "metadata": {},
   "outputs": [],
   "source": [
    "import seaborn as sns"
   ]
  },
  {
   "cell_type": "code",
   "execution_count": null,
   "id": "ba1ab2f3",
   "metadata": {},
   "outputs": [],
   "source": [
    "# pip install seaborn"
   ]
  },
  {
   "cell_type": "code",
   "execution_count": null,
   "id": "1c91167a",
   "metadata": {},
   "outputs": [],
   "source": [
    "sns.heatmap(WQI_df_mean.corr(), annot=True)"
   ]
  },
  {
   "cell_type": "code",
   "execution_count": null,
   "id": "2f2f4ce8",
   "metadata": {},
   "outputs": [],
   "source": [
    "# correlation among the features of each features in the data frame.\n",
    "\n",
    "corr_matrix = WQI_df_mean.corr()\n",
    "round(corr_matrix,2)"
   ]
  },
  {
   "cell_type": "code",
   "execution_count": null,
   "id": "1bd467c8",
   "metadata": {},
   "outputs": [],
   "source": [
    "# Looking for the correlations between WQI and rest of the features\n",
    "\n",
    "corr_matrix = WQI_df_mean.corr()\n",
    "\n",
    "round(corr_matrix[\"WQI\"],2).sort_values(ascending=False)"
   ]
  },
  {
   "cell_type": "code",
   "execution_count": null,
   "id": "7e118508",
   "metadata": {},
   "outputs": [],
   "source": []
  },
  {
   "cell_type": "code",
   "execution_count": null,
   "id": "21fb4ae0",
   "metadata": {},
   "outputs": [],
   "source": [
    "\n"
   ]
  },
  {
   "cell_type": "code",
   "execution_count": null,
   "id": "643f2ccf",
   "metadata": {},
   "outputs": [],
   "source": []
  },
  {
   "cell_type": "code",
   "execution_count": null,
   "id": "df1cb007",
   "metadata": {},
   "outputs": [],
   "source": [
    "WQI_df_mean.plot(kind=\"scatter\", x=\"Conductivity (µmhos/cm)\", y=\"WQI\")"
   ]
  },
  {
   "cell_type": "code",
   "execution_count": null,
   "id": "ed262e5b",
   "metadata": {},
   "outputs": [],
   "source": [
    "WQI_df_mean.plot(kind=\"scatter\", x=\"Ammmonia Nitrogen (mg/L)\", y=\"WQI\")"
   ]
  },
  {
   "cell_type": "code",
   "execution_count": null,
   "id": "d449df5c",
   "metadata": {},
   "outputs": [],
   "source": [
    "WQI_df.dtypes"
   ]
  },
  {
   "cell_type": "code",
   "execution_count": null,
   "id": "7205a164",
   "metadata": {},
   "outputs": [],
   "source": []
  },
  {
   "cell_type": "code",
   "execution_count": null,
   "id": "9e54433f",
   "metadata": {},
   "outputs": [],
   "source": [
    "WQI_df_1 = WQI_df.drop(columns=[\"CollectDate\"])\n",
    "WQI_df_1.head()"
   ]
  },
  {
   "cell_type": "code",
   "execution_count": null,
   "id": "5a126ec2",
   "metadata": {},
   "outputs": [],
   "source": [
    "\n"
   ]
  },
  {
   "cell_type": "code",
   "execution_count": null,
   "id": "6cdde6cc",
   "metadata": {},
   "outputs": [],
   "source": []
  },
  {
   "cell_type": "markdown",
   "id": "069973c9",
   "metadata": {},
   "source": [
    "# Compile, Train and Evaluate the Model"
   ]
  },
  {
   "cell_type": "code",
   "execution_count": null,
   "id": "5ec08104",
   "metadata": {},
   "outputs": [],
   "source": [
    "# Import our dependencies\n",
    "from sklearn.model_selection import train_test_split\n",
    "from sklearn.preprocessing import StandardScaler,OneHotEncoder\n",
    "import pandas as pd\n",
    "import tensorflow as tf"
   ]
  },
  {
   "cell_type": "code",
   "execution_count": null,
   "id": "73eb0020",
   "metadata": {},
   "outputs": [],
   "source": [
    "### Sandardization of data ###\n",
    "from sklearn.preprocessing import StandardScaler\n",
    "\n",
    "\n",
    "y = WQI_df_1[\"WQI\"].values.reshape(-1,1)\n",
    "X = WQI_df_1.drop([\"WQI\"],1).values\n",
    "\n",
    "print(X.shape)\n",
    "print(y.shape)\n",
    "\n"
   ]
  },
  {
   "cell_type": "code",
   "execution_count": null,
   "id": "5c7601b6",
   "metadata": {},
   "outputs": [],
   "source": [
    "\n",
    "# Split the preprocessed data into a training and testing dataset\n",
    "from sklearn.model_selection import train_test_split\n",
    "X_train, X_test, y_train, y_test = train_test_split(X, y, random_state=78)\n",
    "\n",
    "\n",
    "# Create a StandardScaler instances\n",
    "scaler = StandardScaler()\n",
    "\n",
    "# Fit the StandardScaler\n",
    "X_scaler = scaler.fit(X_train)\n",
    "\n",
    "\n",
    "# Scale the data\n",
    "X_train_scaled = X_scaler.transform(X_train)\n",
    "X_test_scaled = X_scaler.transform(X_test)\n",
    "\n",
    "\n",
    "print(X_train.shape)\n",
    "print(y_train.shape)\n",
    "print(X_test.shape)\n",
    "print(y_test.shape)"
   ]
  },
  {
   "cell_type": "code",
   "execution_count": null,
   "id": "a6d7190e",
   "metadata": {},
   "outputs": [],
   "source": []
  },
  {
   "cell_type": "code",
   "execution_count": 68,
   "id": "b0efc837",
   "metadata": {},
   "outputs": [
    {
     "name": "stdout",
     "output_type": "stream",
     "text": [
      "Model: \"sequential_7\"\n",
      "_________________________________________________________________\n",
      " Layer (type)                Output Shape              Param #   \n",
      "=================================================================\n",
      " dense_21 (Dense)            (None, 30)                330       \n",
      "                                                                 \n",
      " dense_22 (Dense)            (None, 15)                465       \n",
      "                                                                 \n",
      " dense_23 (Dense)            (None, 1)                 16        \n",
      "                                                                 \n",
      "=================================================================\n",
      "Total params: 811\n",
      "Trainable params: 811\n",
      "Non-trainable params: 0\n",
      "_________________________________________________________________\n"
     ]
    }
   ],
   "source": [
    "# importing the libraries\n",
    "from keras.models import Sequential\n",
    "from keras.layers import Dense\n",
    " \n",
    "# Define the model - deep neural net, i.e., the number of input features and hidden nodes for each layer.\n",
    "number_input_features = 10\n",
    "hidden_nodes_layer1 = 30\n",
    "hidden_nodes_layer2 = 15\n",
    "\n",
    "model = tf.keras.models.Sequential()\n",
    "\n",
    "# First hidden layer\n",
    "model.add(tf.keras.layers.Dense(units=hidden_nodes_layer1, input_dim=number_input_features, activation=\"relu\"))\n",
    "\n",
    "\n",
    "# Second hidden layer\n",
    "model.add(tf.keras.layers.Dense(units=hidden_nodes_layer2, activation=\"relu\"))\n",
    "\n",
    "# Output layer\n",
    "model.add(tf.keras.layers.Dense(units=1, activation=\"linear\"))\n",
    "\n",
    "\n",
    "# Check the structure of the model\n",
    "model.summary()"
   ]
  },
  {
   "cell_type": "code",
   "execution_count": 69,
   "id": "1a9a8e09",
   "metadata": {},
   "outputs": [],
   "source": [
    "# Compiling the model\n",
    "model.compile(loss='mean_squared_error', optimizer='adam')"
   ]
  },
  {
   "cell_type": "code",
   "execution_count": 75,
   "id": "fc478261",
   "metadata": {},
   "outputs": [
    {
     "name": "stderr",
     "output_type": "stream",
     "text": [
      "C:\\Users\\gothw\\anaconda3\\envs\\ul\\lib\\site-packages\\keras\\optimizers\\optimizer_v2\\gradient_descent.py:111: UserWarning: The `lr` argument is deprecated, use `learning_rate` instead.\n",
      "  super().__init__(name, **kwargs)\n"
     ]
    }
   ],
   "source": [
    "from keras.optimizers import SGD\n",
    "opt = SGD(lr=0.01, momentum=0.9)"
   ]
  },
  {
   "cell_type": "code",
   "execution_count": 70,
   "id": "31e1031e",
   "metadata": {},
   "outputs": [
    {
     "name": "stdout",
     "output_type": "stream",
     "text": [
      "Epoch 1/100\n",
      "140/140 [==============================] - 0s 1ms/step - loss: 9072.1396\n",
      "Epoch 2/100\n",
      "140/140 [==============================] - 0s 1ms/step - loss: 5497.5059\n",
      "Epoch 3/100\n",
      "140/140 [==============================] - 0s 1ms/step - loss: 1179.4512\n",
      "Epoch 4/100\n",
      "140/140 [==============================] - 0s 1ms/step - loss: 560.8248\n",
      "Epoch 5/100\n",
      "140/140 [==============================] - 0s 1ms/step - loss: 448.0936\n",
      "Epoch 6/100\n",
      "140/140 [==============================] - 0s 2ms/step - loss: 375.9640\n",
      "Epoch 7/100\n",
      "140/140 [==============================] - 0s 2ms/step - loss: 316.5043\n",
      "Epoch 8/100\n",
      "140/140 [==============================] - 0s 2ms/step - loss: 266.2497\n",
      "Epoch 9/100\n",
      "140/140 [==============================] - 0s 2ms/step - loss: 224.7840\n",
      "Epoch 10/100\n",
      "140/140 [==============================] - 0s 1ms/step - loss: 187.5834\n",
      "Epoch 11/100\n",
      "140/140 [==============================] - 0s 1ms/step - loss: 156.5270\n",
      "Epoch 12/100\n",
      "140/140 [==============================] - 0s 1ms/step - loss: 130.5666\n",
      "Epoch 13/100\n",
      "140/140 [==============================] - 0s 2ms/step - loss: 108.7078\n",
      "Epoch 14/100\n",
      "140/140 [==============================] - 0s 1ms/step - loss: 90.1076\n",
      "Epoch 15/100\n",
      "140/140 [==============================] - 0s 1ms/step - loss: 74.9229\n",
      "Epoch 16/100\n",
      "140/140 [==============================] - 0s 1ms/step - loss: 62.1246\n",
      "Epoch 17/100\n",
      "140/140 [==============================] - 0s 2ms/step - loss: 51.6394\n",
      "Epoch 18/100\n",
      "140/140 [==============================] - 0s 1ms/step - loss: 43.3748\n",
      "Epoch 19/100\n",
      "140/140 [==============================] - 0s 1ms/step - loss: 36.3677\n",
      "Epoch 20/100\n",
      "140/140 [==============================] - 0s 1ms/step - loss: 30.8711\n",
      "Epoch 21/100\n",
      "140/140 [==============================] - 0s 1ms/step - loss: 26.0585\n",
      "Epoch 22/100\n",
      "140/140 [==============================] - 0s 1ms/step - loss: 22.1666\n",
      "Epoch 23/100\n",
      "140/140 [==============================] - 0s 1ms/step - loss: 19.0212\n",
      "Epoch 24/100\n",
      "140/140 [==============================] - 0s 1ms/step - loss: 16.2580\n",
      "Epoch 25/100\n",
      "140/140 [==============================] - 0s 1ms/step - loss: 13.8297\n",
      "Epoch 26/100\n",
      "140/140 [==============================] - 0s 1ms/step - loss: 11.7680\n",
      "Epoch 27/100\n",
      "140/140 [==============================] - 0s 1ms/step - loss: 9.9846\n",
      "Epoch 28/100\n",
      "140/140 [==============================] - 0s 1ms/step - loss: 8.4587\n",
      "Epoch 29/100\n",
      "140/140 [==============================] - 0s 2ms/step - loss: 7.1289\n",
      "Epoch 30/100\n",
      "140/140 [==============================] - 0s 1ms/step - loss: 5.7409\n",
      "Epoch 31/100\n",
      "140/140 [==============================] - 0s 1ms/step - loss: 4.7236\n",
      "Epoch 32/100\n",
      "140/140 [==============================] - 0s 1ms/step - loss: 4.0595\n",
      "Epoch 33/100\n",
      "140/140 [==============================] - 0s 1ms/step - loss: 3.3027\n",
      "Epoch 34/100\n",
      "140/140 [==============================] - 0s 1ms/step - loss: 2.7343\n",
      "Epoch 35/100\n",
      "140/140 [==============================] - 0s 1ms/step - loss: 2.2840\n",
      "Epoch 36/100\n",
      "140/140 [==============================] - 0s 1ms/step - loss: 1.8788\n",
      "Epoch 37/100\n",
      "140/140 [==============================] - 0s 1ms/step - loss: 1.5566\n",
      "Epoch 38/100\n",
      "140/140 [==============================] - 0s 1ms/step - loss: 1.3059\n",
      "Epoch 39/100\n",
      "140/140 [==============================] - 0s 1ms/step - loss: 1.0920\n",
      "Epoch 40/100\n",
      "140/140 [==============================] - 0s 1ms/step - loss: 0.9804\n",
      "Epoch 41/100\n",
      "140/140 [==============================] - 0s 1ms/step - loss: 0.8519\n",
      "Epoch 42/100\n",
      "140/140 [==============================] - 0s 1ms/step - loss: 0.7301\n",
      "Epoch 43/100\n",
      "140/140 [==============================] - 0s 1ms/step - loss: 0.6333\n",
      "Epoch 44/100\n",
      "140/140 [==============================] - 0s 1ms/step - loss: 0.5621\n",
      "Epoch 45/100\n",
      "140/140 [==============================] - 0s 1ms/step - loss: 0.4995\n",
      "Epoch 46/100\n",
      "140/140 [==============================] - 0s 1ms/step - loss: 0.4447\n",
      "Epoch 47/100\n",
      "140/140 [==============================] - 0s 1ms/step - loss: 0.4025\n",
      "Epoch 48/100\n",
      "140/140 [==============================] - 0s 1ms/step - loss: 0.3516\n",
      "Epoch 49/100\n",
      "140/140 [==============================] - 0s 2ms/step - loss: 0.3214\n",
      "Epoch 50/100\n",
      "140/140 [==============================] - 0s 1ms/step - loss: 0.2838\n",
      "Epoch 51/100\n",
      "140/140 [==============================] - 0s 1ms/step - loss: 0.2627\n",
      "Epoch 52/100\n",
      "140/140 [==============================] - 0s 1ms/step - loss: 0.2448\n",
      "Epoch 53/100\n",
      "140/140 [==============================] - 0s 1ms/step - loss: 0.2244\n",
      "Epoch 54/100\n",
      "140/140 [==============================] - 0s 1ms/step - loss: 0.2031\n",
      "Epoch 55/100\n",
      "140/140 [==============================] - 0s 1ms/step - loss: 0.1936\n",
      "Epoch 56/100\n",
      "140/140 [==============================] - 0s 1ms/step - loss: 0.1780\n",
      "Epoch 57/100\n",
      "140/140 [==============================] - 0s 1ms/step - loss: 0.1586\n",
      "Epoch 58/100\n",
      "140/140 [==============================] - 0s 1ms/step - loss: 0.1485\n",
      "Epoch 59/100\n",
      "140/140 [==============================] - 0s 1ms/step - loss: 0.1376\n",
      "Epoch 60/100\n",
      "140/140 [==============================] - 0s 1ms/step - loss: 0.1367\n",
      "Epoch 61/100\n",
      "140/140 [==============================] - 0s 1ms/step - loss: 0.1194\n",
      "Epoch 62/100\n",
      "140/140 [==============================] - 0s 1ms/step - loss: 0.1128\n",
      "Epoch 63/100\n",
      "140/140 [==============================] - 0s 1ms/step - loss: 0.1043\n",
      "Epoch 64/100\n",
      "140/140 [==============================] - 0s 1ms/step - loss: 0.1299\n",
      "Epoch 65/100\n",
      "140/140 [==============================] - 0s 1ms/step - loss: 0.1260\n",
      "Epoch 66/100\n",
      "140/140 [==============================] - 0s 1ms/step - loss: 0.1200\n",
      "Epoch 67/100\n",
      "140/140 [==============================] - 0s 1ms/step - loss: 0.0972\n",
      "Epoch 68/100\n",
      "140/140 [==============================] - 0s 1ms/step - loss: 0.0896\n",
      "Epoch 69/100\n",
      "140/140 [==============================] - 0s 2ms/step - loss: 0.0749\n",
      "Epoch 70/100\n",
      "140/140 [==============================] - 0s 3ms/step - loss: 0.0696\n",
      "Epoch 71/100\n",
      "140/140 [==============================] - 0s 3ms/step - loss: 0.0655\n",
      "Epoch 72/100\n",
      "140/140 [==============================] - 0s 3ms/step - loss: 0.0767\n",
      "Epoch 73/100\n",
      "140/140 [==============================] - 1s 4ms/step - loss: 0.0704\n",
      "Epoch 74/100\n",
      "140/140 [==============================] - 0s 3ms/step - loss: 0.0801\n",
      "Epoch 75/100\n",
      "140/140 [==============================] - 1s 4ms/step - loss: 0.0932\n",
      "Epoch 76/100\n",
      "140/140 [==============================] - 0s 3ms/step - loss: 0.1072\n",
      "Epoch 77/100\n",
      "140/140 [==============================] - 0s 3ms/step - loss: 0.0804\n",
      "Epoch 78/100\n",
      "140/140 [==============================] - 0s 3ms/step - loss: 0.1309\n",
      "Epoch 79/100\n",
      "140/140 [==============================] - 0s 3ms/step - loss: 0.0848\n",
      "Epoch 80/100\n",
      "140/140 [==============================] - 1s 4ms/step - loss: 0.1469\n",
      "Epoch 81/100\n",
      "140/140 [==============================] - 0s 3ms/step - loss: 0.0966\n",
      "Epoch 82/100\n",
      "140/140 [==============================] - 0s 3ms/step - loss: 0.0790\n",
      "Epoch 83/100\n",
      "140/140 [==============================] - 0s 3ms/step - loss: 0.0500\n",
      "Epoch 84/100\n",
      "140/140 [==============================] - 0s 2ms/step - loss: 0.1311\n",
      "Epoch 85/100\n",
      "140/140 [==============================] - 0s 2ms/step - loss: 0.0704\n",
      "Epoch 86/100\n",
      "140/140 [==============================] - 0s 2ms/step - loss: 0.0416\n",
      "Epoch 87/100\n",
      "140/140 [==============================] - 0s 2ms/step - loss: 0.0419\n",
      "Epoch 88/100\n",
      "140/140 [==============================] - 0s 2ms/step - loss: 0.0666\n",
      "Epoch 89/100\n",
      "140/140 [==============================] - 0s 2ms/step - loss: 0.0391\n",
      "Epoch 90/100\n",
      "140/140 [==============================] - 0s 2ms/step - loss: 0.0390\n",
      "Epoch 91/100\n",
      "140/140 [==============================] - 0s 3ms/step - loss: 0.0352\n",
      "Epoch 92/100\n",
      "140/140 [==============================] - 0s 2ms/step - loss: 0.0276\n",
      "Epoch 93/100\n",
      "140/140 [==============================] - 0s 2ms/step - loss: 0.0309\n",
      "Epoch 94/100\n",
      "140/140 [==============================] - 0s 2ms/step - loss: 0.0368\n",
      "Epoch 95/100\n",
      "140/140 [==============================] - 0s 2ms/step - loss: 0.1131\n",
      "Epoch 96/100\n",
      "140/140 [==============================] - 0s 2ms/step - loss: 0.1195\n",
      "Epoch 97/100\n",
      "140/140 [==============================] - 0s 2ms/step - loss: 0.0393\n",
      "Epoch 98/100\n",
      "140/140 [==============================] - 0s 2ms/step - loss: 0.0337\n",
      "Epoch 99/100\n",
      "140/140 [==============================] - 0s 2ms/step - loss: 0.0389\n",
      "Epoch 100/100\n",
      "140/140 [==============================] - 0s 2ms/step - loss: 0.0223\n"
     ]
    }
   ],
   "source": [
    "# Fitting the ANN to the Training set\n",
    "history = model.fit(X_train_scaled,y_train,epochs=100)"
   ]
  },
  {
   "cell_type": "code",
   "execution_count": 73,
   "id": "0d9b5555",
   "metadata": {},
   "outputs": [
    {
     "name": "stdout",
     "output_type": "stream",
     "text": [
      "Train: 0.017, Test: 4141.938\n"
     ]
    }
   ],
   "source": [
    "# evaluate the model\n",
    "train_mse = model.evaluate(X_train_scaled, y_train, verbose=0)\n",
    "test_mse = model.evaluate(X_test,y_test, verbose=0)\n",
    "print('Train: %.3f, Test: %.3f' % (train_mse, test_mse))"
   ]
  },
  {
   "cell_type": "code",
   "execution_count": 74,
   "id": "dc61b08c",
   "metadata": {},
   "outputs": [
    {
     "data": {
      "image/png": "[encoded data removed]",
      "text/plain": [
       "<Figure size 640x480 with 1 Axes>"
      ]
     },
     "metadata": {},
     "output_type": "display_data"
    }
   ],
   "source": [
    "from matplotlib import pyplot\n",
    "# plot loss during training\n",
    "pyplot.title('Loss / Mean Squared Error')\n",
    "pyplot.plot(history.history['loss'], label='train')\n",
    "#pyplot.plot(history.history['val_loss'], label='test')\n",
    "pyplot.legend()\n",
    "pyplot.show()"
   ]
  },
  {
   "cell_type": "code",
   "execution_count": null,
   "id": "7282035d",
   "metadata": {},
   "outputs": [],
   "source": [
    "\n"
   ]
  },
  {
   "cell_type": "code",
   "execution_count": null,
   "id": "72f18c2e",
   "metadata": {},
   "outputs": [],
   "source": [
    "\n"
   ]
  },
  {
   "cell_type": "code",
   "execution_count": null,
   "id": "fdc8f9d3",
   "metadata": {},
   "outputs": [],
   "source": []
  },
  {
   "cell_type": "code",
   "execution_count": null,
   "id": "13b7fd3f",
   "metadata": {},
   "outputs": [],
   "source": []
  }
 ],
 "metadata": {
  "kernelspec": {
   "display_name": "ul",
   "language": "python",
   "name": "ul"
  },
  "language_info": {
   "codemirror_mode": {
    "name": "ipython",
    "version": 3
   },
   "file_extension": ".py",
   "mimetype": "text/x-python",
   "name": "python",
   "nbconvert_exporter": "python",
   "pygments_lexer": "ipython3",
   "version": "3.10.6"
  }
 },
 "nbformat": 4,
 "nbformat_minor": 5
}
